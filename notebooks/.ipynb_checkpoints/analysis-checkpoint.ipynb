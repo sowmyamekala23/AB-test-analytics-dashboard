{
 "cells": [
  {
   "cell_type": "code",
   "execution_count": 4,
   "id": "2fe35b81-dec6-454a-8f6e-c92b5fc9f4c4",
   "metadata": {},
   "outputs": [
    {
     "name": "stdout",
     "output_type": "stream",
     "text": [
      "Users: (5000, 9)\n",
      "Sessions: (52558, 8)\n",
      "Events: (646408, 11)\n"
     ]
    },
    {
     "data": {
      "text/html": [
       "<div>\n",
       "<style scoped>\n",
       "    .dataframe tbody tr th:only-of-type {\n",
       "        vertical-align: middle;\n",
       "    }\n",
       "\n",
       "    .dataframe tbody tr th {\n",
       "        vertical-align: top;\n",
       "    }\n",
       "\n",
       "    .dataframe thead th {\n",
       "        text-align: right;\n",
       "    }\n",
       "</style>\n",
       "<table border=\"1\" class=\"dataframe\">\n",
       "  <thead>\n",
       "    <tr style=\"text-align: right;\">\n",
       "      <th></th>\n",
       "      <th>user_id</th>\n",
       "      <th>device_type</th>\n",
       "      <th>country</th>\n",
       "      <th>new_user</th>\n",
       "      <th>pre_period_saves</th>\n",
       "      <th>join_date</th>\n",
       "      <th>experiment_id</th>\n",
       "      <th>treatment</th>\n",
       "      <th>save_prob_user</th>\n",
       "    </tr>\n",
       "  </thead>\n",
       "  <tbody>\n",
       "    <tr>\n",
       "      <th>0</th>\n",
       "      <td>72004f8f-433b-48f5-baea-0cfd00a5232f</td>\n",
       "      <td>mobile</td>\n",
       "      <td>CA</td>\n",
       "      <td>0</td>\n",
       "      <td>9</td>\n",
       "      <td>2025-08-28</td>\n",
       "      <td>feed_ranking_v2</td>\n",
       "      <td>treatment</td>\n",
       "      <td>0.043525</td>\n",
       "    </tr>\n",
       "    <tr>\n",
       "      <th>1</th>\n",
       "      <td>17c78f4b-3d6c-4f12-8cec-89dc6384f150</td>\n",
       "      <td>desktop</td>\n",
       "      <td>US</td>\n",
       "      <td>0</td>\n",
       "      <td>7</td>\n",
       "      <td>2025-07-08</td>\n",
       "      <td>feed_ranking_v2</td>\n",
       "      <td>control</td>\n",
       "      <td>0.047235</td>\n",
       "    </tr>\n",
       "    <tr>\n",
       "      <th>2</th>\n",
       "      <td>7854e8e9-091a-45d7-ad8e-57810fda0eb1</td>\n",
       "      <td>mobile</td>\n",
       "      <td>US</td>\n",
       "      <td>1</td>\n",
       "      <td>14</td>\n",
       "      <td>2025-08-07</td>\n",
       "      <td>feed_ranking_v2</td>\n",
       "      <td>treatment</td>\n",
       "      <td>0.016087</td>\n",
       "    </tr>\n",
       "    <tr>\n",
       "      <th>3</th>\n",
       "      <td>ed986766-d971-4515-886f-dc6845bd4c1a</td>\n",
       "      <td>desktop</td>\n",
       "      <td>IN</td>\n",
       "      <td>1</td>\n",
       "      <td>13</td>\n",
       "      <td>2025-07-19</td>\n",
       "      <td>feed_ranking_v2</td>\n",
       "      <td>treatment</td>\n",
       "      <td>0.045398</td>\n",
       "    </tr>\n",
       "    <tr>\n",
       "      <th>4</th>\n",
       "      <td>dffa683d-9930-494a-b752-0a05972f5ac2</td>\n",
       "      <td>desktop</td>\n",
       "      <td>US</td>\n",
       "      <td>1</td>\n",
       "      <td>7</td>\n",
       "      <td>2025-09-18</td>\n",
       "      <td>feed_ranking_v2</td>\n",
       "      <td>control</td>\n",
       "      <td>0.045317</td>\n",
       "    </tr>\n",
       "  </tbody>\n",
       "</table>\n",
       "</div>"
      ],
      "text/plain": [
       "                                user_id device_type country  new_user  \\\n",
       "0  72004f8f-433b-48f5-baea-0cfd00a5232f      mobile      CA         0   \n",
       "1  17c78f4b-3d6c-4f12-8cec-89dc6384f150     desktop      US         0   \n",
       "2  7854e8e9-091a-45d7-ad8e-57810fda0eb1      mobile      US         1   \n",
       "3  ed986766-d971-4515-886f-dc6845bd4c1a     desktop      IN         1   \n",
       "4  dffa683d-9930-494a-b752-0a05972f5ac2     desktop      US         1   \n",
       "\n",
       "   pre_period_saves   join_date    experiment_id  treatment  save_prob_user  \n",
       "0                 9  2025-08-28  feed_ranking_v2  treatment        0.043525  \n",
       "1                 7  2025-07-08  feed_ranking_v2    control        0.047235  \n",
       "2                14  2025-08-07  feed_ranking_v2  treatment        0.016087  \n",
       "3                13  2025-07-19  feed_ranking_v2  treatment        0.045398  \n",
       "4                 7  2025-09-18  feed_ranking_v2    control        0.045317  "
      ]
     },
     "execution_count": 4,
     "metadata": {},
     "output_type": "execute_result"
    }
   ],
   "source": [
    "import pandas as pd\n",
    "import numpy as np\n",
    "\n",
    "#loading the generated data\n",
    "users = pd.read_csv(\"/Users/soumya/Documents/Pinterest/data/users.csv\")\n",
    "sessions = pd.read_csv(\"/Users/soumya/Documents/Pinterest/data/sessions.csv\")\n",
    "events = pd.read_csv(\"/Users/soumya/Documents/Pinterest/data/events.csv\")\n",
    "\n",
    "#checking shape\n",
    "print(\"Users:\", users.shape)\n",
    "print(\"Sessions:\", sessions.shape)\n",
    "print(\"Events:\", events.shape)\n",
    "\n",
    "users.head()"
   ]
  },
  {
   "cell_type": "code",
   "execution_count": 5,
   "id": "0b8d6445-6408-47a4-9b75-84e7a664565e",
   "metadata": {},
   "outputs": [
    {
     "name": "stdout",
     "output_type": "stream",
     "text": [
      "(5000, 6)\n"
     ]
    },
    {
     "data": {
      "text/html": [
       "<div>\n",
       "<style scoped>\n",
       "    .dataframe tbody tr th:only-of-type {\n",
       "        vertical-align: middle;\n",
       "    }\n",
       "\n",
       "    .dataframe tbody tr th {\n",
       "        vertical-align: top;\n",
       "    }\n",
       "\n",
       "    .dataframe thead th {\n",
       "        text-align: right;\n",
       "    }\n",
       "</style>\n",
       "<table border=\"1\" class=\"dataframe\">\n",
       "  <thead>\n",
       "    <tr style=\"text-align: right;\">\n",
       "      <th>event_type</th>\n",
       "      <th>user_id</th>\n",
       "      <th>treatment</th>\n",
       "      <th>click</th>\n",
       "      <th>impression</th>\n",
       "      <th>save</th>\n",
       "      <th>save_rate</th>\n",
       "    </tr>\n",
       "  </thead>\n",
       "  <tbody>\n",
       "    <tr>\n",
       "      <th>0</th>\n",
       "      <td>00020e3a-7c78-4b42-95da-3b9da887cc15</td>\n",
       "      <td>control</td>\n",
       "      <td>12</td>\n",
       "      <td>91</td>\n",
       "      <td>3</td>\n",
       "      <td>0.032967</td>\n",
       "    </tr>\n",
       "    <tr>\n",
       "      <th>1</th>\n",
       "      <td>000eec25-b1ef-468b-8318-804b8f215b73</td>\n",
       "      <td>control</td>\n",
       "      <td>6</td>\n",
       "      <td>93</td>\n",
       "      <td>2</td>\n",
       "      <td>0.021505</td>\n",
       "    </tr>\n",
       "    <tr>\n",
       "      <th>2</th>\n",
       "      <td>002052f2-ec92-4d96-95e5-aaf07980a6b0</td>\n",
       "      <td>control</td>\n",
       "      <td>10</td>\n",
       "      <td>104</td>\n",
       "      <td>12</td>\n",
       "      <td>0.115385</td>\n",
       "    </tr>\n",
       "    <tr>\n",
       "      <th>3</th>\n",
       "      <td>0029c4ce-94a7-4175-b4a4-15d097fd66d5</td>\n",
       "      <td>control</td>\n",
       "      <td>7</td>\n",
       "      <td>109</td>\n",
       "      <td>6</td>\n",
       "      <td>0.055046</td>\n",
       "    </tr>\n",
       "    <tr>\n",
       "      <th>4</th>\n",
       "      <td>0051b29c-0635-474f-aa7b-8b9d4303a2f6</td>\n",
       "      <td>treatment</td>\n",
       "      <td>12</td>\n",
       "      <td>85</td>\n",
       "      <td>2</td>\n",
       "      <td>0.023529</td>\n",
       "    </tr>\n",
       "  </tbody>\n",
       "</table>\n",
       "</div>"
      ],
      "text/plain": [
       "event_type                               user_id  treatment  click  \\\n",
       "0           00020e3a-7c78-4b42-95da-3b9da887cc15    control     12   \n",
       "1           000eec25-b1ef-468b-8318-804b8f215b73    control      6   \n",
       "2           002052f2-ec92-4d96-95e5-aaf07980a6b0    control     10   \n",
       "3           0029c4ce-94a7-4175-b4a4-15d097fd66d5    control      7   \n",
       "4           0051b29c-0635-474f-aa7b-8b9d4303a2f6  treatment     12   \n",
       "\n",
       "event_type  impression  save  save_rate  \n",
       "0                   91     3   0.032967  \n",
       "1                   93     2   0.021505  \n",
       "2                  104    12   0.115385  \n",
       "3                  109     6   0.055046  \n",
       "4                   85     2   0.023529  "
      ]
     },
     "execution_count": 5,
     "metadata": {},
     "output_type": "execute_result"
    }
   ],
   "source": [
    "#aggregating impressions and saves\n",
    "user_metrics = (\n",
    "    events.groupby([\"user_id\", \"treatment\"])\n",
    "    .event_type.value_counts()\n",
    "    .unstack(fill_value=0)\n",
    "    .reset_index()\n",
    ")\n",
    "\n",
    "#ensuring columns exist without impression or save data per user\n",
    "for col in [\"impression\", \"save\"]:\n",
    "    if col not in user_metrics.columns:\n",
    "        user_metrics[col] = 0\n",
    "\n",
    "#computing save_rate = saves / impressions\n",
    "user_metrics[\"save_rate\"] = np.where(\n",
    "    user_metrics[\"impression\"] > 0,\n",
    "    user_metrics[\"save\"] / user_metrics[\"impression\"],\n",
    "    0\n",
    ")\n",
    "\n",
    "print(user_metrics.shape)\n",
    "user_metrics.head()"
   ]
  },
  {
   "cell_type": "code",
   "execution_count": 6,
   "id": "870329cb-6425-4fb1-a510-84081e90bbf2",
   "metadata": {},
   "outputs": [
    {
     "name": "stdout",
     "output_type": "stream",
     "text": [
      "   treatment  mean_save_rate  total_impr  total_saves  n_users\n",
      "0    control        0.050125      280375        14056     2508\n",
      "1  treatment        0.051052      280510        14372     2492\n",
      "\n",
      "Control mean save_rate: 0.050\n",
      "Treatment mean save_rate: 0.051\n",
      "Lift: 1.85%\n"
     ]
    }
   ],
   "source": [
    "#computing mean save_rate for each group\n",
    "group_stats = (\n",
    "    user_metrics.groupby(\"treatment\")\n",
    "    .agg(\n",
    "        mean_save_rate=(\"save_rate\", \"mean\"),\n",
    "        total_impr=(\"impression\", \"sum\"),\n",
    "        total_saves=(\"save\", \"sum\"),\n",
    "        n_users=(\"user_id\", \"count\")\n",
    "    )\n",
    "    .reset_index()\n",
    ")\n",
    "\n",
    "control_mean = group_stats.loc[group_stats[\"treatment\"]==\"control\", \"mean_save_rate\"].values[0]\n",
    "treat_mean = group_stats.loc[group_stats[\"treatment\"]==\"treatment\", \"mean_save_rate\"].values[0]\n",
    "lift = (treat_mean - control_mean) / control_mean * 100\n",
    "\n",
    "print(group_stats)\n",
    "print(f\"\\nControl mean save_rate: {control_mean:.3f}\")\n",
    "print(f\"Treatment mean save_rate: {treat_mean:.3f}\")\n",
    "print(f\"Lift: {lift:.2f}%\")"
   ]
  },
  {
   "cell_type": "code",
   "execution_count": 7,
   "id": "ba4fe9e7-a65a-4eef-929b-bdc735460ca9",
   "metadata": {},
   "outputs": [
    {
     "name": "stdout",
     "output_type": "stream",
     "text": [
      "Z-test for save_rate: z=-1.88, p=0.0598\n"
     ]
    }
   ],
   "source": [
    "from statsmodels.stats.proportion import proportions_ztest\n",
    "import numpy as np\n",
    "\n",
    "#extracting saves and impressions\n",
    "saves = group_stats[\"total_saves\"].values\n",
    "impr = group_stats[\"total_impr\"].values\n",
    "\n",
    "#running two-sided z-test\n",
    "z_stat, p_val = proportions_ztest(saves, impr)\n",
    "\n",
    "print(f\"Z-test for save_rate: z={z_stat:.2f}, p={p_val:.4f}\")"
   ]
  },
  {
   "cell_type": "code",
   "execution_count": 8,
   "id": "4231fd48-81bd-4bcd-aa07-2ebb5bd9fb5d",
   "metadata": {},
   "outputs": [
    {
     "name": "stdout",
     "output_type": "stream",
     "text": [
      "CUPED Control mean save_rate: 0.050\n",
      "CUPED Treatment mean save_rate: 0.051\n",
      "CUPED Lift: 1.85%\n"
     ]
    }
   ],
   "source": [
    "#generating a baseline covariate\n",
    "np.random.seed(42)\n",
    "user_metrics[\"pre_save_rate\"] = np.random.beta(a=2, b=50, size=len(user_metrics))\n",
    "\n",
    "#computing CUPED adjustment\n",
    "theta = (\n",
    "    np.cov(user_metrics[\"save_rate\"], user_metrics[\"pre_save_rate\"])[0,1] /\n",
    "    np.var(user_metrics[\"pre_save_rate\"])\n",
    ")\n",
    "\n",
    "user_metrics[\"save_rate_cuped\"] = (\n",
    "    user_metrics[\"save_rate\"] - theta * (user_metrics[\"pre_save_rate\"] - user_metrics[\"pre_save_rate\"].mean())\n",
    ")\n",
    "\n",
    "cuped_stats = user_metrics.groupby(\"treatment\")[\"save_rate_cuped\"].mean()\n",
    "cuped_lift = (cuped_stats[\"treatment\"] - cuped_stats[\"control\"]) / cuped_stats[\"control\"] * 100\n",
    "\n",
    "print(f\"CUPED Control mean save_rate: {cuped_stats['control']:.3f}\")\n",
    "print(f\"CUPED Treatment mean save_rate: {cuped_stats['treatment']:.3f}\")\n",
    "print(f\"CUPED Lift: {cuped_lift:.2f}%\")"
   ]
  },
  {
   "cell_type": "code",
   "execution_count": 9,
   "id": "ce02cbdc-702d-4569-97f2-d5c8fb33f9cd",
   "metadata": {},
   "outputs": [
    {
     "name": "stdout",
     "output_type": "stream",
     "text": [
      "Bayesian P(Treatment > Control) = 0.971\n"
     ]
    }
   ],
   "source": [
    "from scipy.stats import beta\n",
    "\n",
    "alpha0, beta0 = 1, 1  \n",
    "\n",
    "alpha_c, beta_c = alpha0 + saves[0], beta0 + impr[0] - saves[0]\n",
    "alpha_t, beta_t = alpha0 + saves[1], beta0 + impr[1] - saves[1]\n",
    "\n",
    "#monte carlo sampling\n",
    "samples_c = np.random.beta(alpha_c, beta_c, 50000)\n",
    "samples_t = np.random.beta(alpha_t, beta_t, 50000)\n",
    "\n",
    "prob_treat_better = (samples_t > samples_c).mean()\n",
    "\n",
    "print(f\"Bayesian P(Treatment > Control) = {prob_treat_better:.3f}\")"
   ]
  },
  {
   "cell_type": "code",
   "execution_count": 10,
   "id": "a4ea3dc4-d992-467f-b6a8-f5c243f0b7eb",
   "metadata": {},
   "outputs": [
    {
     "data": {
      "image/png": "[encoded data removed]",
      "text/plain": [
       "<Figure size 640x480 with 1 Axes>"
      ]
     },
     "metadata": {},
     "output_type": "display_data"
    },
    {
     "data": {
      "image/png": "[encoded data removed]",
      "text/plain": [
       "<Figure size 640x480 with 1 Axes>"
      ]
     },
     "metadata": {},
     "output_type": "display_data"
    }
   ],
   "source": [
    "import seaborn as sns\n",
    "import matplotlib.pyplot as plt\n",
    "\n",
    "#save_rate\n",
    "sns.boxplot(x=\"treatment\", y=\"save_rate\", data=user_metrics)\n",
    "plt.title(\"Save Rate Distribution by Treatment\")\n",
    "plt.show()\n",
    "\n",
    "#CTR\n",
    "if \"click\" in events[\"event_type\"].unique():\n",
    "    user_metrics[\"ctr\"] = np.where(\n",
    "        user_metrics[\"impression\"] > 0,\n",
    "        user_metrics.get(\"click\", 0) / user_metrics[\"impression\"],\n",
    "        0\n",
    "    )\n",
    "    sns.boxplot(x=\"treatment\", y=\"ctr\", data=user_metrics)\n",
    "    plt.title(\"CTR Distribution by Treatment\")\n",
    "    plt.show()"
   ]
  },
  {
   "cell_type": "code",
   "execution_count": 11,
   "id": "dc78e3f6-afd8-4cf5-9e11-1e794bd4f56a",
   "metadata": {},
   "outputs": [
    {
     "data": {
      "text/html": [
       "<div>\n",
       "<style scoped>\n",
       "    .dataframe tbody tr th:only-of-type {\n",
       "        vertical-align: middle;\n",
       "    }\n",
       "\n",
       "    .dataframe tbody tr th {\n",
       "        vertical-align: top;\n",
       "    }\n",
       "\n",
       "    .dataframe thead th {\n",
       "        text-align: right;\n",
       "    }\n",
       "</style>\n",
       "<table border=\"1\" class=\"dataframe\">\n",
       "  <thead>\n",
       "    <tr style=\"text-align: right;\">\n",
       "      <th></th>\n",
       "      <th>Metric</th>\n",
       "      <th>Control</th>\n",
       "      <th>Treatment</th>\n",
       "      <th>Lift (%)</th>\n",
       "    </tr>\n",
       "  </thead>\n",
       "  <tbody>\n",
       "    <tr>\n",
       "      <th>0</th>\n",
       "      <td>save_rate</td>\n",
       "      <td>0.0501</td>\n",
       "      <td>0.0511</td>\n",
       "      <td>1.8488</td>\n",
       "    </tr>\n",
       "    <tr>\n",
       "      <th>1</th>\n",
       "      <td>save_rate_cuped</td>\n",
       "      <td>0.0501</td>\n",
       "      <td>0.0511</td>\n",
       "      <td>1.8492</td>\n",
       "    </tr>\n",
       "  </tbody>\n",
       "</table>\n",
       "</div>"
      ],
      "text/plain": [
       "            Metric  Control  Treatment  Lift (%)\n",
       "0        save_rate   0.0501     0.0511    1.8488\n",
       "1  save_rate_cuped   0.0501     0.0511    1.8492"
      ]
     },
     "execution_count": 11,
     "metadata": {},
     "output_type": "execute_result"
    }
   ],
   "source": [
    "summary = pd.DataFrame({\n",
    "    \"Metric\": [\"save_rate\"],\n",
    "    \"Control\": [control_mean],\n",
    "    \"Treatment\": [treat_mean],\n",
    "    \"Lift (%)\": [lift]\n",
    "})\n",
    "\n",
    "#add CUPED adjusted\n",
    "summary.loc[len(summary)] = [\n",
    "    \"save_rate_cuped\",\n",
    "    user_metrics.loc[user_metrics[\"treatment\"]==\"control\", \"save_rate_cuped\"].mean(),\n",
    "    user_metrics.loc[user_metrics[\"treatment\"]==\"treatment\", \"save_rate_cuped\"].mean(),\n",
    "    cuped_lift\n",
    "]\n",
    "summary = summary.round(4)\n",
    "summary"
   ]
  },
  {
   "cell_type": "code",
   "execution_count": 12,
   "id": "deacbcbb-60f3-4d54-96ab-4f383d0bb1bc",
   "metadata": {},
   "outputs": [
    {
     "name": "stdout",
     "output_type": "stream",
     "text": [
      "   treatment device_type  save_rate\n",
      "0    control     desktop   0.049733\n",
      "1    control      mobile   0.050356\n",
      "2    control      tablet   0.049126\n",
      "3  treatment     desktop   0.051180\n",
      "4  treatment      mobile   0.051145\n",
      "5  treatment      tablet   0.052882\n"
     ]
    },
    {
     "name": "stderr",
     "output_type": "stream",
     "text": [
      "/var/folders/fv/q324n91n0bdfs2l9swv5jtb00000gn/T/ipykernel_56510/3205493156.py:4: DeprecationWarning: DataFrameGroupBy.apply operated on the grouping columns. This behavior is deprecated, and in a future version of pandas the grouping columns will be excluded from the operation. Either pass `include_groups=False` to exclude the groupings or explicitly select the grouping columns after groupby to silence this warning.\n",
      "  .apply(lambda df: (df[\"event_type\"]==\"save\").sum() / (df[\"event_type\"]==\"impression\").sum())\n"
     ]
    }
   ],
   "source": [
    "#segmenting by device type\n",
    "seg_stats = (\n",
    "    events.groupby([\"treatment\", \"device_type\"])\n",
    "    .apply(lambda df: (df[\"event_type\"]==\"save\").sum() / (df[\"event_type\"]==\"impression\").sum())\n",
    "    .reset_index(name=\"save_rate\")\n",
    ")\n",
    "\n",
    "print(seg_stats)"
   ]
  },
  {
   "cell_type": "code",
   "execution_count": 11,
   "id": "4107da90-b5e0-48bb-b984-b4aee632bc71",
   "metadata": {},
   "outputs": [
    {
     "name": "stdout",
     "output_type": "stream",
     "text": [
      "Exports ready for Streamlit: user_metrics.csv, treatment_summary.csv, daily_metrics.csv\n"
     ]
    }
   ],
   "source": [
    "#merging segmentation attributes into user_metrics\n",
    "user_metrics = user_metrics.merge(\n",
    "    users[[\"user_id\",\"device_type\",\"country\"]],\n",
    "    on=\"user_id\",\n",
    "    how=\"left\"\n",
    ")\n",
    "\n",
    "#save user-level metrics\n",
    "user_metrics.to_csv(\"data/user_metrics.csv\", index=False)\n",
    "\n",
    "#save group summary\n",
    "group_stats.to_csv(\"data/treatment_summary.csv\", index=False)\n",
    "\n",
    "#building daily metrics for Streamlit\n",
    "events[\"day\"] = pd.to_datetime(events[\"timestamp\"]).dt.date\n",
    "daily_metrics = (\n",
    "    events.groupby([\"day\",\"treatment\"])\n",
    "    .agg(\n",
    "        impressions=(\"event_type\", lambda x: (x==\"impression\").sum()),\n",
    "        saves=(\"event_type\", lambda x: (x==\"save\").sum())\n",
    "    )\n",
    "    .reset_index()\n",
    ")\n",
    "daily_metrics[\"save_rate\"] = np.where(\n",
    "    daily_metrics[\"impressions\"] > 0,\n",
    "    daily_metrics[\"saves\"] / daily_metrics[\"impressions\"],\n",
    "    0\n",
    ")\n",
    "\n",
    "daily_metrics.to_csv(\"data/daily_metrics.csv\", index=False)\n",
    "\n",
    "print(\"Exports ready for Streamlit: user_metrics.csv, treatment_summary.csv, daily_metrics.csv\")"
   ]
  },
  {
   "cell_type": "code",
   "execution_count": null,
   "id": "bb5fe5d4-38c8-4401-9751-af69e4279f51",
   "metadata": {},
   "outputs": [],
   "source": []
  }
 ],
 "metadata": {
  "kernelspec": {
   "display_name": "Python 3 (ipykernel)",
   "language": "python",
   "name": "python3"
  },
  "language_info": {
   "codemirror_mode": {
    "name": "ipython",
    "version": 3
   },
   "file_extension": ".py",
   "mimetype": "text/x-python",
   "name": "python",
   "nbconvert_exporter": "python",
   "pygments_lexer": "ipython3",
   "version": "3.12.0"
  }
 },
 "nbformat": 4,
 "nbformat_minor": 5
}
